{
 "cells": [
  {
   "cell_type": "code",
   "execution_count": 77,
   "metadata": {},
   "outputs": [],
   "source": [
    "import numpy as np\n",
    "import pandas as pd\n",
    "\n",
    "from sklearn import datasets\n",
    "from sklearn.metrics import r2_score\n",
    "from sklearn.model_selection import train_test_split\n",
    "\n",
    "from collections import Counter\n",
    "\n",
    "import matplotlib.pyplot as plt\n",
    "from matplotlib.colors import ListedColormap\n",
    "cmap=ListedColormap(['#FF0000','#00FF00','#0000FF'])"
   ]
  },
  {
   "cell_type": "code",
   "execution_count": 78,
   "metadata": {},
   "outputs": [],
   "source": [
    "housing = datasets.load_boston()"
   ]
  },
  {
   "cell_type": "code",
   "execution_count": 79,
   "metadata": {},
   "outputs": [
    {
     "data": {
      "text/plain": [
       "dict_keys(['data', 'target', 'feature_names', 'DESCR', 'filename'])"
      ]
     },
     "execution_count": 79,
     "metadata": {},
     "output_type": "execute_result"
    }
   ],
   "source": [
    "housing.keys()"
   ]
  },
  {
   "cell_type": "code",
   "execution_count": 80,
   "metadata": {},
   "outputs": [],
   "source": [
    "x = housing.data\n",
    "y = housing.target"
   ]
  },
  {
   "cell_type": "code",
   "execution_count": 81,
   "metadata": {},
   "outputs": [],
   "source": [
    "x_train, x_test, y_train, y_test = train_test_split(x, y, test_size=0.2, random_state=1234)"
   ]
  },
  {
   "cell_type": "code",
   "execution_count": 82,
   "metadata": {},
   "outputs": [
    {
     "name": "stdout",
     "output_type": "stream",
     "text": [
      "(404, 13)\n",
      "[  0.40771   0.        6.2       1.        0.507     6.164    91.3\n",
      "   3.048     8.      307.       17.4     395.24     21.46   ]\n",
      "-----------------------------\n",
      "(404,)\n",
      "21.7\n"
     ]
    }
   ],
   "source": [
    "print(x_train.shape)\n",
    "print(x_train[0])\n",
    "\n",
    "print('-----------------------------')\n",
    "\n",
    "print(y_train.shape)\n",
    "print(y_train[0])"
   ]
  },
  {
   "cell_type": "code",
   "execution_count": 83,
   "metadata": {},
   "outputs": [],
   "source": [
    "def euclidean_distance(x1, x2):\n",
    "        return np.sqrt(np.sum((x1 - x2)**2))"
   ]
  },
  {
   "cell_type": "code",
   "execution_count": 89,
   "metadata": {},
   "outputs": [],
   "source": [
    "class KNN:\n",
    "\n",
    "    def __init__(self, k=3):\n",
    "        self.k = k\n",
    "\n",
    "    def fit(self, X, y):\n",
    "        self.X_train = X\n",
    "        self.y_train = y\n",
    "\n",
    "    def predict(self, X):\n",
    "        y_pred = [self._predict(x) for x in X]\n",
    "        return np.array(y_pred)\n",
    "\n",
    "    def _predict(self, x):\n",
    "        distances = [euclidean_distance(x, x_train) for x_train in self.X_train]\n",
    "        k_idx = np.argsort(distances)[:self.k]     \n",
    "        k_neighbor_labels = [self.y_train[i] for i in k_idx]  \n",
    "        most_common = Counter(k_neighbor_labels).most_common(1)\n",
    "        return most_common[0][0]"
   ]
  },
  {
   "cell_type": "code",
   "execution_count": 91,
   "metadata": {},
   "outputs": [
    {
     "name": "stdout",
     "output_type": "stream",
     "text": [
      "(24.4, 1)\n",
      "(19.3, 1)\n",
      "(10.5, 1)\n",
      "(20.6, 1)\n",
      "(13.4, 1)\n",
      "(23.2, 1)\n",
      "(18.7, 1)\n",
      "(17.8, 2)\n",
      "(33.3, 1)\n",
      "(34.9, 1)\n",
      "(15.2, 1)\n",
      "(31.5, 1)\n",
      "(24.7, 1)\n",
      "(16.2, 1)\n",
      "(17.6, 1)\n",
      "(20.7, 1)\n",
      "(16.4, 1)\n",
      "(21.4, 1)\n",
      "(12.7, 1)\n",
      "(10.5, 2)\n",
      "(34.9, 1)\n",
      "(37.0, 1)\n",
      "(19.9, 1)\n",
      "(15.0, 1)\n",
      "(22.9, 1)\n",
      "(25.0, 1)\n",
      "(19.5, 1)\n",
      "(24.7, 1)\n",
      "(24.3, 1)\n",
      "(20.5, 1)\n",
      "(18.9, 1)\n",
      "(13.1, 1)\n",
      "(19.2, 1)\n",
      "(15.4, 1)\n",
      "(19.3, 1)\n",
      "(16.3, 1)\n",
      "(50.0, 1)\n",
      "(19.9, 1)\n",
      "(7.2, 1)\n",
      "(23.1, 1)\n",
      "(6.3, 1)\n",
      "(18.2, 1)\n",
      "(24.4, 1)\n",
      "(33.4, 1)\n",
      "(14.9, 1)\n",
      "(24.3, 1)\n",
      "(29.8, 1)\n",
      "(50.0, 1)\n",
      "(15.6, 1)\n",
      "(23.2, 1)\n",
      "(16.1, 1)\n",
      "(35.4, 1)\n",
      "(15.3, 1)\n",
      "(22.8, 1)\n",
      "(50.0, 2)\n",
      "(44.0, 1)\n",
      "(10.4, 1)\n",
      "(22.9, 1)\n",
      "(50.0, 2)\n",
      "(21.4, 1)\n",
      "(30.8, 1)\n",
      "(11.5, 1)\n",
      "(19.2, 1)\n",
      "(29.8, 1)\n",
      "(13.1, 1)\n",
      "(20.9, 1)\n",
      "(43.1, 1)\n",
      "(29.0, 1)\n",
      "(41.3, 1)\n",
      "(41.7, 1)\n",
      "(15.6, 2)\n",
      "(23.8, 1)\n",
      "(15.2, 1)\n",
      "(21.7, 1)\n",
      "(22.8, 1)\n",
      "(8.5, 1)\n",
      "(31.7, 1)\n",
      "(18.2, 1)\n",
      "(15.7, 1)\n",
      "(16.2, 1)\n",
      "(26.7, 1)\n",
      "(43.1, 1)\n",
      "(23.1, 1)\n",
      "(17.8, 1)\n",
      "(37.2, 1)\n",
      "(10.2, 1)\n",
      "(20.4, 1)\n",
      "(24.8, 1)\n",
      "(19.9, 1)\n",
      "(19.3, 1)\n",
      "(20.2, 1)\n",
      "(15.2, 1)\n",
      "(22.6, 1)\n",
      "(17.5, 1)\n",
      "(17.8, 1)\n",
      "(31.5, 1)\n",
      "(13.5, 1)\n",
      "(24.3, 1)\n",
      "(29.8, 1)\n",
      "(22.0, 1)\n",
      "(20.1, 1)\n",
      "(28.7, 1)\n",
      "[24.4 19.3 10.5 20.6 13.4]\n"
     ]
    }
   ],
   "source": [
    "k = 3\n",
    "clf = KNN(k=k)\n",
    "clf.fit(x_train, y_train)\n",
    "predictions = clf.predict(x_test)\n",
    "print(predictions[:5])\n"
   ]
  },
  {
   "cell_type": "code",
   "execution_count": null,
   "metadata": {},
   "outputs": [],
   "source": []
  },
  {
   "cell_type": "code",
   "execution_count": null,
   "metadata": {},
   "outputs": [],
   "source": []
  }
 ],
 "metadata": {
  "kernelspec": {
   "display_name": "Python 3",
   "language": "python",
   "name": "python3"
  },
  "language_info": {
   "codemirror_mode": {
    "name": "ipython",
    "version": 3
   },
   "file_extension": ".py",
   "mimetype": "text/x-python",
   "name": "python",
   "nbconvert_exporter": "python",
   "pygments_lexer": "ipython3",
   "version": "3.7.3"
  }
 },
 "nbformat": 4,
 "nbformat_minor": 2
}
